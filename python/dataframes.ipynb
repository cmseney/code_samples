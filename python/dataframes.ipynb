{
 "cells": [
  {
   "cell_type": "code",
   "execution_count": 105,
   "id": "afe53ee7-832e-42a8-83a0-3cc8d8ff6b64",
   "metadata": {},
   "outputs": [
    {
     "name": "stdout",
     "output_type": "stream",
     "text": [
      "    product  sales  price\n",
      "0     paint     52     15\n",
      "1    pencil    116      5\n",
      "2    canvas     43     30\n",
      "3      glue     15      8\n",
      "4  charcoal      0      6\n"
     ]
    }
   ],
   "source": [
    "import matplotlib.pyplot as plt\n",
    "import pandas as pd\n",
    "\n",
    "# Create a pandas DataFrame\n",
    "\n",
    "sales_data = {\n",
    "    'product': [\"paint\", \"pencil\", \"canvas\", \"glue\", \"charcoal\"],\n",
    "    'sales': [52, 116, 43, 15, 0],\n",
    "    'price': [15, 5, 30, 8, 6]\n",
    "}\n",
    "\n",
    "df_sales = pd.DataFrame(sales_data)\n",
    "df_sales.set_index('product')\n",
    "print(df_sales)"
   ]
  },
  {
   "cell_type": "code",
   "execution_count": 107,
   "id": "820998b4-6498-4d55-88ca-0f457615fe0c",
   "metadata": {},
   "outputs": [
    {
     "data": {
      "text/plain": [
       "product    object\n",
       "sales       int64\n",
       "price       int64\n",
       "dtype: object"
      ]
     },
     "execution_count": 107,
     "metadata": {},
     "output_type": "execute_result"
    }
   ],
   "source": [
    "# Display columns types\n",
    "\n",
    "df_sales.dtypes"
   ]
  },
  {
   "cell_type": "code",
   "execution_count": 108,
   "id": "1e95bb63-34f8-43d7-8d18-f6c6b1299798",
   "metadata": {},
   "outputs": [
    {
     "data": {
      "text/html": [
       "<div>\n",
       "<style scoped>\n",
       "    .dataframe tbody tr th:only-of-type {\n",
       "        vertical-align: middle;\n",
       "    }\n",
       "\n",
       "    .dataframe tbody tr th {\n",
       "        vertical-align: top;\n",
       "    }\n",
       "\n",
       "    .dataframe thead th {\n",
       "        text-align: right;\n",
       "    }\n",
       "</style>\n",
       "<table border=\"1\" class=\"dataframe\">\n",
       "  <thead>\n",
       "    <tr style=\"text-align: right;\">\n",
       "      <th></th>\n",
       "      <th>sales</th>\n",
       "      <th>price</th>\n",
       "    </tr>\n",
       "  </thead>\n",
       "  <tbody>\n",
       "    <tr>\n",
       "      <th>count</th>\n",
       "      <td>5.000000</td>\n",
       "      <td>5.000000</td>\n",
       "    </tr>\n",
       "    <tr>\n",
       "      <th>mean</th>\n",
       "      <td>45.200000</td>\n",
       "      <td>12.800000</td>\n",
       "    </tr>\n",
       "    <tr>\n",
       "      <th>std</th>\n",
       "      <td>44.773876</td>\n",
       "      <td>10.377861</td>\n",
       "    </tr>\n",
       "    <tr>\n",
       "      <th>min</th>\n",
       "      <td>0.000000</td>\n",
       "      <td>5.000000</td>\n",
       "    </tr>\n",
       "    <tr>\n",
       "      <th>25%</th>\n",
       "      <td>15.000000</td>\n",
       "      <td>6.000000</td>\n",
       "    </tr>\n",
       "    <tr>\n",
       "      <th>50%</th>\n",
       "      <td>43.000000</td>\n",
       "      <td>8.000000</td>\n",
       "    </tr>\n",
       "    <tr>\n",
       "      <th>75%</th>\n",
       "      <td>52.000000</td>\n",
       "      <td>15.000000</td>\n",
       "    </tr>\n",
       "    <tr>\n",
       "      <th>max</th>\n",
       "      <td>116.000000</td>\n",
       "      <td>30.000000</td>\n",
       "    </tr>\n",
       "  </tbody>\n",
       "</table>\n",
       "</div>"
      ],
      "text/plain": [
       "            sales      price\n",
       "count    5.000000   5.000000\n",
       "mean    45.200000  12.800000\n",
       "std     44.773876  10.377861\n",
       "min      0.000000   5.000000\n",
       "25%     15.000000   6.000000\n",
       "50%     43.000000   8.000000\n",
       "75%     52.000000  15.000000\n",
       "max    116.000000  30.000000"
      ]
     },
     "execution_count": 108,
     "metadata": {},
     "output_type": "execute_result"
    }
   ],
   "source": [
    "df_sales.describe()"
   ]
  },
  {
   "cell_type": "code",
   "execution_count": 74,
   "id": "3b40b2a6-f656-4c18-aa2b-8cb90b4e98fc",
   "metadata": {},
   "outputs": [
    {
     "name": "stdout",
     "output_type": "stream",
     "text": [
      "Count zero sales: 1\n"
     ]
    }
   ],
   "source": [
    "# Count number of 0 values in a column\n",
    "\n",
    "zero_sales = df_sales['sales'].eq(0).sum(axis=0)\n",
    "print(f'Count zero sales: {zero_sales}')"
   ]
  },
  {
   "cell_type": "code",
   "execution_count": 75,
   "id": "95823d95-3487-4d8f-9b24-40d9a378d4e9",
   "metadata": {},
   "outputs": [
    {
     "name": "stdout",
     "output_type": "stream",
     "text": [
      "Duplicate products: False\n"
     ]
    }
   ],
   "source": [
    "# Check for duplicates in a column\n",
    "\n",
    "check_dups = df_sales.duplicated(subset=['product']).any()\n",
    "print(f'Duplicate products: {check_dups}')"
   ]
  },
  {
   "cell_type": "code",
   "execution_count": 109,
   "id": "3463af59-fc6a-4de1-942c-4bcbaf01421e",
   "metadata": {},
   "outputs": [
    {
     "name": "stdout",
     "output_type": "stream",
     "text": [
      "Mean:45.20 Max:116 Min:0 Median:43.0\n"
     ]
    }
   ],
   "source": [
    "# Calculate the mean, max, min, median of a column in a DataFrame and print formatted output\n",
    "\n",
    "mean_sales = df_sales['sales'].mean()\n",
    "max_sales = max(df_sales['sales'])\n",
    "min_sales = min(df_sales['sales'])\n",
    "median_sales = df_sales['sales'].median()\n",
    "\n",
    "print(f'Mean:{mean_sales:.2f} Max:{max_sales} Min:{min_sales} Median:{median_sales}') "
   ]
  },
  {
   "cell_type": "code",
   "execution_count": 77,
   "id": "9447cab5-913b-4938-9e01-dbab9a6205fc",
   "metadata": {},
   "outputs": [
    {
     "name": "stdout",
     "output_type": "stream",
     "text": [
      "2    canvas\n",
      "Name: product, dtype: object\n"
     ]
    }
   ],
   "source": [
    "# Return the values of one column based on a query on another column\n",
    "\n",
    "max_price = max(df_sales['price'])\n",
    "max_price_product = df_sales.query('price == @max_price')['product']\n",
    "print(max_price_product)"
   ]
  },
  {
   "cell_type": "code",
   "execution_count": 78,
   "id": "ed8b7c6f-973c-45a5-8128-f25653943073",
   "metadata": {},
   "outputs": [
    {
     "name": "stdout",
     "output_type": "stream",
     "text": [
      "0     780\n",
      "1     580\n",
      "2    1290\n",
      "3     120\n",
      "4       0\n",
      "Name: revenue, dtype: int64\n"
     ]
    }
   ],
   "source": [
    "# Combine two DataFrame columns to create a new column\n",
    "\n",
    "df_sales['revenue'] = df_sales.sales * df_sales.price\n",
    "print(df_sales.revenue)"
   ]
  },
  {
   "cell_type": "code",
   "execution_count": 79,
   "id": "2d5d6952-458b-4848-a434-91e720b275be",
   "metadata": {},
   "outputs": [
    {
     "data": {
      "text/plain": [
       "Text(0.5, 1.0, 'Revenue by product')"
      ]
     },
     "execution_count": 79,
     "metadata": {},
     "output_type": "execute_result"
    },
    {
     "data": {
      "image/png": "[encoded data removed]",
      "text/plain": [
       "<Figure size 640x480 with 1 Axes>"
      ]
     },
     "metadata": {},
     "output_type": "display_data"
    }
   ],
   "source": [
    "# Plot a bar graph from a DataFrame\n",
    "\n",
    "ax = df_sales.plot.bar(x='product', y='revenue')\n",
    "ax.set_title('Revenue by product')"
   ]
  },
  {
   "cell_type": "code",
   "execution_count": 80,
   "id": "44a5e4e6-fc45-4dfd-84cc-91f7d1e19134",
   "metadata": {},
   "outputs": [
    {
     "name": "stdout",
     "output_type": "stream",
     "text": [
      "    product        supplier\n",
      "0     paint  Paint Supplier\n",
      "1    pencil    Art Supplier\n",
      "2    canvas  Paint Supplier\n",
      "3      glue    Art Supplier\n",
      "4  charcoal    Art Supplier\n"
     ]
    }
   ],
   "source": [
    "# Define another DataFrame with a matching column to use join\n",
    "\n",
    "supplier_data = {\n",
    "    'product': [\"paint\", \"pencil\", \"canvas\", \"glue\", \"charcoal\"],\n",
    "    'supplier': [\"Paint Supplier\", \"Art Supplier\", \"Paint Supplier\", \"Art Supplier\", \"Art Supplier\"]\n",
    "}\n",
    "\n",
    "df_supplier = pd.DataFrame(supplier_data)\n",
    "df_supplier.set_index('product')\n",
    "print(df_supplier)"
   ]
  },
  {
   "cell_type": "code",
   "execution_count": 90,
   "id": "0daa004f-0fe7-4153-81b9-0b26fa1d34f7",
   "metadata": {},
   "outputs": [
    {
     "name": "stdout",
     "output_type": "stream",
     "text": [
      "    product  sales  price  revenue        supplier\n",
      "0     paint     52     15      780  Paint Supplier\n",
      "1    pencil    116      5      580    Art Supplier\n",
      "2    canvas     43     30     1290  Paint Supplier\n",
      "3      glue     15      8      120    Art Supplier\n",
      "4  charcoal      0      6        0    Art Supplier\n"
     ]
    }
   ],
   "source": [
    "# Join pandas DataFrames on index columns and drop the right column\n",
    "\n",
    "df_join = df_sales.join(df_supplier, how='left', rsuffix='_supplier').drop(['product_supplier'], axis=1)\n",
    "print(df_join)"
   ]
  },
  {
   "cell_type": "code",
   "execution_count": 91,
   "id": "0752c5f6-063c-49a0-ae8a-e757c098c2dd",
   "metadata": {},
   "outputs": [
    {
     "data": {
      "text/plain": [
       "product     object\n",
       "sales        int64\n",
       "price        int64\n",
       "revenue      int64\n",
       "supplier    object\n",
       "dtype: object"
      ]
     },
     "execution_count": 91,
     "metadata": {},
     "output_type": "execute_result"
    }
   ],
   "source": [
    "# Data types of pandas DataFrame columns\n",
    "\n",
    "df_join.dtypes"
   ]
  },
  {
   "cell_type": "code",
   "execution_count": 95,
   "id": "125b6e76-734b-4ca1-aa38-7c00d5ed6885",
   "metadata": {},
   "outputs": [
    {
     "name": "stdout",
     "output_type": "stream",
     "text": [
      "131\n"
     ]
    }
   ],
   "source": [
    "# Filter DataFrame\n",
    "\n",
    "art_filter = df_join['supplier'] == \"Art Supplier\"\n",
    "art_sales = df_join[art_filter]['sales'].sum()\n",
    "print(art_sales)"
   ]
  },
  {
   "cell_type": "code",
   "execution_count": 99,
   "id": "5565a7c2-312c-458c-b15c-87ab710be0fd",
   "metadata": {},
   "outputs": [
    {
     "name": "stdout",
     "output_type": "stream",
     "text": [
      "supplier\n",
      "Art Supplier       700\n",
      "Paint Supplier    2070\n",
      "Name: revenue, dtype: int64\n"
     ]
    }
   ],
   "source": [
    "# Group by and aggregate\n",
    "\n",
    "df_supplier_revenue = df_join.groupby('supplier')['revenue'].sum()\n",
    "print(df_supplier_revenue)"
   ]
  },
  {
   "cell_type": "code",
   "execution_count": 102,
   "id": "4ebec344-a740-4b38-b7d6-fbbcb1b1cc4f",
   "metadata": {},
   "outputs": [
    {
     "data": {
      "text/plain": [
       "Text(0.5, 1.0, 'Revenue by Supplier')"
      ]
     },
     "execution_count": 102,
     "metadata": {},
     "output_type": "execute_result"
    },
    {
     "data": {
      "image/png": "[encoded data removed]",
      "text/plain": [
       "<Figure size 640x480 with 1 Axes>"
      ]
     },
     "metadata": {},
     "output_type": "display_data"
    }
   ],
   "source": [
    "ax = df_supplier_revenue.plot.bar(x='supplier', y='revenue')\n",
    "ax.set_title('Revenue by Supplier')"
   ]
  },
  {
   "cell_type": "code",
   "execution_count": 112,
   "id": "f6b46484-70f7-443f-93cd-22eeaef5d612",
   "metadata": {},
   "outputs": [
    {
     "name": "stdout",
     "output_type": "stream",
     "text": [
      "           Date  Rainfall (cm)\n",
      "0    2023-01-01           5.74\n",
      "1    2023-01-02           0.52\n",
      "2    2023-01-03          19.40\n",
      "3    2023-01-04           5.53\n",
      "4    2023-01-05           7.01\n",
      "..          ...            ...\n",
      "360  2023-12-27          11.99\n",
      "361  2023-12-28           7.30\n",
      "362  2023-12-29           6.03\n",
      "363  2023-12-30           1.48\n",
      "364  2023-12-31          14.98\n",
      "\n",
      "[365 rows x 2 columns]\n"
     ]
    }
   ],
   "source": [
    "# Read from a csv file into a DataFrame\n",
    "\n",
    "rainfall_df = pd.read_csv(\"C:/data/rainfall_data_year.csv\")\n",
    "print(rainfall_df)"
   ]
  },
  {
   "cell_type": "code",
   "execution_count": 115,
   "id": "8a2eb7f1-4cd1-4b6c-9b7b-21c95edf1277",
   "metadata": {},
   "outputs": [],
   "source": [
    "# Change column names\n",
    "\n",
    "rainfall_df.rename(columns={'Date': 'date', 'Rainfall (cm)': 'rainfall'}, inplace=True)"
   ]
  },
  {
   "cell_type": "code",
   "execution_count": 117,
   "id": "8493e3d4-fa3e-462a-b979-066d2e368263",
   "metadata": {},
   "outputs": [],
   "source": [
    "# Change data type of a column\n",
    "\n",
    "rainfall_df['date'] = pd.to_datetime(rainfall_df['date'])"
   ]
  },
  {
   "cell_type": "code",
   "execution_count": 118,
   "id": "52b88889-53bc-4f06-91ef-95356f577bf0",
   "metadata": {},
   "outputs": [
    {
     "data": {
      "text/plain": [
       "date        datetime64[ns]\n",
       "rainfall           float64\n",
       "dtype: object"
      ]
     },
     "execution_count": 118,
     "metadata": {},
     "output_type": "execute_result"
    }
   ],
   "source": [
    "rainfall_df.dtypes"
   ]
  },
  {
   "cell_type": "code",
   "execution_count": 119,
   "id": "36d3a861-7f7c-465e-ba20-9a23b7dc8a3b",
   "metadata": {},
   "outputs": [
    {
     "data": {
      "text/html": [
       "<div>\n",
       "<style scoped>\n",
       "    .dataframe tbody tr th:only-of-type {\n",
       "        vertical-align: middle;\n",
       "    }\n",
       "\n",
       "    .dataframe tbody tr th {\n",
       "        vertical-align: top;\n",
       "    }\n",
       "\n",
       "    .dataframe thead th {\n",
       "        text-align: right;\n",
       "    }\n",
       "</style>\n",
       "<table border=\"1\" class=\"dataframe\">\n",
       "  <thead>\n",
       "    <tr style=\"text-align: right;\">\n",
       "      <th></th>\n",
       "      <th>date</th>\n",
       "      <th>rainfall</th>\n",
       "    </tr>\n",
       "  </thead>\n",
       "  <tbody>\n",
       "    <tr>\n",
       "      <th>count</th>\n",
       "      <td>365</td>\n",
       "      <td>365.000000</td>\n",
       "    </tr>\n",
       "    <tr>\n",
       "      <th>mean</th>\n",
       "      <td>2023-07-02 00:00:00</td>\n",
       "      <td>9.938493</td>\n",
       "    </tr>\n",
       "    <tr>\n",
       "      <th>min</th>\n",
       "      <td>2023-01-01 00:00:00</td>\n",
       "      <td>0.030000</td>\n",
       "    </tr>\n",
       "    <tr>\n",
       "      <th>25%</th>\n",
       "      <td>2023-04-02 00:00:00</td>\n",
       "      <td>4.950000</td>\n",
       "    </tr>\n",
       "    <tr>\n",
       "      <th>50%</th>\n",
       "      <td>2023-07-02 00:00:00</td>\n",
       "      <td>10.200000</td>\n",
       "    </tr>\n",
       "    <tr>\n",
       "      <th>75%</th>\n",
       "      <td>2023-10-01 00:00:00</td>\n",
       "      <td>14.970000</td>\n",
       "    </tr>\n",
       "    <tr>\n",
       "      <th>max</th>\n",
       "      <td>2023-12-31 00:00:00</td>\n",
       "      <td>19.930000</td>\n",
       "    </tr>\n",
       "    <tr>\n",
       "      <th>std</th>\n",
       "      <td>NaN</td>\n",
       "      <td>5.831280</td>\n",
       "    </tr>\n",
       "  </tbody>\n",
       "</table>\n",
       "</div>"
      ],
      "text/plain": [
       "                      date    rainfall\n",
       "count                  365  365.000000\n",
       "mean   2023-07-02 00:00:00    9.938493\n",
       "min    2023-01-01 00:00:00    0.030000\n",
       "25%    2023-04-02 00:00:00    4.950000\n",
       "50%    2023-07-02 00:00:00   10.200000\n",
       "75%    2023-10-01 00:00:00   14.970000\n",
       "max    2023-12-31 00:00:00   19.930000\n",
       "std                    NaN    5.831280"
      ]
     },
     "execution_count": 119,
     "metadata": {},
     "output_type": "execute_result"
    }
   ],
   "source": [
    "rainfall_df.describe()"
   ]
  },
  {
   "cell_type": "code",
   "execution_count": null,
   "id": "f50addd2-f771-4cf5-a620-541a8f8f65d2",
   "metadata": {},
   "outputs": [],
   "source": []
  }
 ],
 "metadata": {
  "kernelspec": {
   "display_name": "Python 3 (ipykernel)",
   "language": "python",
   "name": "python3"
  },
  "language_info": {
   "codemirror_mode": {
    "name": "ipython",
    "version": 3
   },
   "file_extension": ".py",
   "mimetype": "text/x-python",
   "name": "python",
   "nbconvert_exporter": "python",
   "pygments_lexer": "ipython3",
   "version": "3.12.6"
  }
 },
 "nbformat": 4,
 "nbformat_minor": 5
}
